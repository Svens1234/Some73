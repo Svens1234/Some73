{
 "cells": [
  {
   "cell_type": "code",
   "execution_count": 1,
   "id": "68843a44",
   "metadata": {},
   "outputs": [],
   "source": [
    "import numpy as np"
   ]
  },
  {
   "cell_type": "code",
   "execution_count": 2,
   "id": "9da2d571",
   "metadata": {},
   "outputs": [],
   "source": [
    "x = np.arange(16.0).reshape(2, 2, 4)"
   ]
  },
  {
   "cell_type": "code",
   "execution_count": 3,
   "id": "4721e38d",
   "metadata": {},
   "outputs": [
    {
     "data": {
      "text/plain": [
       "array([[[ 0.,  1.,  2.,  3.],\n",
       "        [ 4.,  5.,  6.,  7.]],\n",
       "\n",
       "       [[ 8.,  9., 10., 11.],\n",
       "        [12., 13., 14., 15.]]])"
      ]
     },
     "execution_count": 3,
     "metadata": {},
     "output_type": "execute_result"
    }
   ],
   "source": [
    "x"
   ]
  },
  {
   "cell_type": "code",
   "execution_count": 4,
   "id": "28531a91",
   "metadata": {},
   "outputs": [
    {
     "data": {
      "text/plain": [
       "[array([[[ 0.,  1.],\n",
       "         [ 4.,  5.]],\n",
       " \n",
       "        [[ 8.,  9.],\n",
       "         [12., 13.]]]),\n",
       " array([[[ 2.,  3.],\n",
       "         [ 6.,  7.]],\n",
       " \n",
       "        [[10., 11.],\n",
       "         [14., 15.]]])]"
      ]
     },
     "execution_count": 4,
     "metadata": {},
     "output_type": "execute_result"
    }
   ],
   "source": [
    "np.dsplit(x, 2)"
   ]
  },
  {
   "cell_type": "code",
   "execution_count": 5,
   "id": "f115aea6",
   "metadata": {},
   "outputs": [
    {
     "data": {
      "text/plain": [
       "[array([[[ 0.,  1.,  2.],\n",
       "         [ 4.,  5.,  6.]],\n",
       " \n",
       "        [[ 8.,  9., 10.],\n",
       "         [12., 13., 14.]]]),\n",
       " array([[[ 3.],\n",
       "         [ 7.]],\n",
       " \n",
       "        [[11.],\n",
       "         [15.]]]),\n",
       " array([], shape=(2, 2, 0), dtype=float64)]"
      ]
     },
     "execution_count": 5,
     "metadata": {},
     "output_type": "execute_result"
    }
   ],
   "source": [
    "np.dsplit(x, np.array([3, 6]))"
   ]
  },
  {
   "cell_type": "code",
   "execution_count": null,
   "id": "09424bb2",
   "metadata": {},
   "outputs": [],
   "source": []
  }
 ],
 "metadata": {
  "kernelspec": {
   "display_name": "Python 3 (ipykernel)",
   "language": "python",
   "name": "python3"
  },
  "language_info": {
   "codemirror_mode": {
    "name": "ipython",
    "version": 3
   },
   "file_extension": ".py",
   "mimetype": "text/x-python",
   "name": "python",
   "nbconvert_exporter": "python",
   "pygments_lexer": "ipython3",
   "version": "3.8.7"
  }
 },
 "nbformat": 4,
 "nbformat_minor": 5
}
